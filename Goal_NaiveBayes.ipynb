{
 "cells": [
  {
   "cell_type": "code",
   "execution_count": 1,
   "id": "20b3cc3d",
   "metadata": {},
   "outputs": [],
   "source": [
    "import numpy as np\n",
    "import matplotlib.pyplot as plt\n",
    "import pandas as pd"
   ]
  },
  {
   "cell_type": "code",
   "execution_count": 4,
   "id": "676f835b",
   "metadata": {},
   "outputs": [],
   "source": [
    "dataset = pd.read_csv('FIFAWordCup.csv')\n",
    "X = dataset.iloc[:, [3, 4]].values\n",
    "y = dataset.iloc[:, -1].values"
   ]
  },
  {
   "cell_type": "code",
   "execution_count": 5,
   "id": "3b91f58b",
   "metadata": {},
   "outputs": [
    {
     "data": {
      "text/plain": [
       "array([0, 0, 0, ..., 2, 2, 2], dtype=int64)"
      ]
     },
     "execution_count": 5,
     "metadata": {},
     "output_type": "execute_result"
    }
   ],
   "source": [
    "y"
   ]
  },
  {
   "cell_type": "code",
   "execution_count": 6,
   "id": "90af6ce1",
   "metadata": {},
   "outputs": [
    {
     "data": {
      "text/plain": [
       "array([[1, 0],\n",
       "       [2, 0],\n",
       "       [3, 0],\n",
       "       ...,\n",
       "       [1, 2],\n",
       "       [2, 2],\n",
       "       [3, 2]], dtype=int64)"
      ]
     },
     "execution_count": 6,
     "metadata": {},
     "output_type": "execute_result"
    }
   ],
   "source": [
    "X"
   ]
  },
  {
   "cell_type": "code",
   "execution_count": 7,
   "id": "a53300ad",
   "metadata": {},
   "outputs": [],
   "source": [
    "from sklearn.model_selection import train_test_split\n",
    "X_train, X_test, y_train, y_test = train_test_split(X, y, test_size = 0.25, random_state = 0)"
   ]
  },
  {
   "cell_type": "code",
   "execution_count": 8,
   "id": "7d96c997",
   "metadata": {},
   "outputs": [
    {
     "data": {
      "text/plain": [
       "array([[9, 0],\n",
       "       [0, 2],\n",
       "       [0, 4],\n",
       "       ...,\n",
       "       [8, 0],\n",
       "       [2, 0],\n",
       "       [1, 0]], dtype=int64)"
      ]
     },
     "execution_count": 8,
     "metadata": {},
     "output_type": "execute_result"
    }
   ],
   "source": [
    "X_train"
   ]
  },
  {
   "cell_type": "code",
   "execution_count": 9,
   "id": "a6389e0d",
   "metadata": {},
   "outputs": [
    {
     "data": {
      "text/plain": [
       "array([1, 1, 1, 1, 1, 0, 3, 0, 3, 0, 0, 0, 1, 1, 2, 2, 1, 0, 2, 0, 0, 1,\n",
       "       1, 1, 1, 2, 1, 3, 1, 0, 1, 0, 1, 0, 2, 3, 1, 1, 0, 1, 1, 0, 2, 1,\n",
       "       1, 0, 0, 0, 1, 0, 2, 1, 2, 2, 0, 3, 2, 1, 3, 1, 1, 1, 1, 1, 1, 0,\n",
       "       0, 1, 1, 1, 0, 0, 1, 0, 0, 1, 1, 0, 1, 0, 0, 0, 0, 0, 1, 0, 2, 1,\n",
       "       0, 1, 3, 0, 1, 1, 2, 1, 0, 1, 2, 1, 0, 0, 2, 0, 4, 2, 0, 0, 0, 1,\n",
       "       2, 0, 0, 1, 0, 1, 1, 2, 1, 0, 2, 2, 0, 2, 1, 2, 1, 1, 0, 1, 0, 1,\n",
       "       3, 1, 1, 1, 0, 1, 1, 0, 0, 3, 0, 3, 1, 0, 1, 1, 1, 1, 0, 0, 0, 1,\n",
       "       2, 0, 2, 0, 1, 1, 1, 0, 0, 2, 1, 1, 1, 0, 1, 0, 1, 0, 1, 0, 0, 2,\n",
       "       0, 0, 0, 0, 0, 3, 0, 0, 1, 1, 0, 0, 1, 0, 5, 0, 4, 1, 0, 1, 3, 2,\n",
       "       0, 0, 1, 0, 2, 0, 0, 1, 0, 1, 2, 0, 1, 2, 1, 0, 2, 0, 1, 0, 0, 2,\n",
       "       4, 0, 2, 0, 2, 1, 0, 1, 1, 1, 0, 1, 0, 1, 0, 3, 0, 0, 2, 1, 1, 0,\n",
       "       0, 1, 0, 2, 0, 3, 0, 1, 0, 1, 0, 0, 1, 2, 0, 0, 1, 0, 0, 0, 0, 1,\n",
       "       0, 0, 1, 1, 0, 1, 1, 1, 0, 6, 4, 2, 1, 1, 0, 0, 0, 0, 0, 0, 0, 1,\n",
       "       0, 1, 0, 1, 0, 4, 1, 2, 0, 0, 1, 0, 0, 0, 1, 1, 0, 1, 1, 1, 0, 1,\n",
       "       0, 1, 0, 2, 2, 3, 1, 1, 0, 0, 0, 1, 1, 0, 1, 0, 1, 1, 1, 1, 0, 2,\n",
       "       0, 1, 1, 2, 3, 1, 0, 1, 0, 0, 2, 0, 1, 0, 0, 3, 1, 0, 1, 1, 2, 0,\n",
       "       1, 1, 0, 1, 0, 2, 1, 1, 2, 2, 2, 1, 1, 3, 2, 1, 1, 1, 0, 2, 1, 2,\n",
       "       1, 0, 0, 0, 1, 0, 1, 1, 0, 0, 0, 0, 1, 1, 2, 0, 2, 0, 1, 0, 1, 1,\n",
       "       1, 1, 0, 2, 0, 0, 1, 1, 1, 1, 1, 0, 1, 0, 0, 5, 0, 1, 0, 0, 2, 0,\n",
       "       0, 1, 0, 1, 3, 0, 0, 0, 0, 0, 1, 3, 0, 3, 2, 1, 1, 2, 1, 0, 0, 2,\n",
       "       0, 1, 1, 0, 1, 2, 3, 0, 0, 0, 1, 2, 0, 0, 0, 0, 1, 1, 1, 1, 1, 0,\n",
       "       2, 0, 2, 0, 3, 1, 3, 0, 1, 1, 0, 1, 1, 0, 0, 1, 2, 1, 0, 1, 0, 0,\n",
       "       1, 0, 2, 3, 0, 0, 1, 0, 0, 2, 0, 0, 0, 1, 0, 0, 0, 1, 0, 3, 1, 2,\n",
       "       1, 0, 1, 1, 0, 2, 4, 1, 0, 2, 1, 0, 0, 0, 0, 2, 1, 0, 3, 0, 0, 2,\n",
       "       0, 1, 0, 2, 0, 0, 0, 1, 0, 1, 0, 2, 1, 1, 0, 1, 1, 1, 0, 0, 2, 1,\n",
       "       1, 0], dtype=int64)"
      ]
     },
     "execution_count": 9,
     "metadata": {},
     "output_type": "execute_result"
    }
   ],
   "source": [
    "y_test"
   ]
  },
  {
   "cell_type": "code",
   "execution_count": 10,
   "id": "99f93673",
   "metadata": {},
   "outputs": [],
   "source": [
    "from sklearn.preprocessing import StandardScaler\n",
    "sc = StandardScaler()\n",
    "X_train = sc.fit_transform(X_train)\n",
    "X_test = sc.transform(X_test)"
   ]
  },
  {
   "cell_type": "code",
   "execution_count": 11,
   "id": "4ec97740",
   "metadata": {},
   "outputs": [
    {
     "data": {
      "text/plain": [
       "array([[ 4.81301859, -0.94260725],\n",
       "       [-1.16562472,  1.28917386],\n",
       "       [-1.16562472,  3.52095497],\n",
       "       ...,\n",
       "       [ 4.14872489, -0.94260725],\n",
       "       [ 0.16296268, -0.94260725],\n",
       "       [-0.50133102, -0.94260725]])"
      ]
     },
     "execution_count": 11,
     "metadata": {},
     "output_type": "execute_result"
    }
   ],
   "source": [
    "X_train"
   ]
  },
  {
   "cell_type": "code",
   "execution_count": 12,
   "id": "4c9b4b17",
   "metadata": {},
   "outputs": [
    {
     "data": {
      "text/plain": [
       "array([1, 1, 1, 1, 1, 0, 3, 0, 3, 0, 0, 0, 1, 1, 2, 2, 1, 0, 2, 0, 0, 1,\n",
       "       1, 1, 1, 2, 1, 3, 1, 0, 1, 0, 1, 0, 2, 3, 1, 1, 0, 1, 1, 0, 2, 1,\n",
       "       1, 0, 0, 0, 1, 0, 2, 1, 2, 2, 0, 3, 2, 1, 3, 1, 1, 1, 1, 1, 1, 0,\n",
       "       0, 1, 1, 1, 0, 0, 1, 0, 0, 1, 1, 0, 1, 0, 0, 0, 0, 0, 1, 0, 2, 1,\n",
       "       0, 1, 3, 0, 1, 1, 2, 1, 0, 1, 2, 1, 0, 0, 2, 0, 4, 2, 0, 0, 0, 1,\n",
       "       2, 0, 0, 1, 0, 1, 1, 2, 1, 0, 2, 2, 0, 2, 1, 2, 1, 1, 0, 1, 0, 1,\n",
       "       3, 1, 1, 1, 0, 1, 1, 0, 0, 3, 0, 3, 1, 0, 1, 1, 1, 1, 0, 0, 0, 1,\n",
       "       2, 0, 2, 0, 1, 1, 1, 0, 0, 2, 1, 1, 1, 0, 1, 0, 1, 0, 1, 0, 0, 2,\n",
       "       0, 0, 0, 0, 0, 3, 0, 0, 1, 1, 0, 0, 1, 0, 5, 0, 4, 1, 0, 1, 3, 2,\n",
       "       0, 0, 1, 0, 2, 0, 0, 1, 0, 1, 2, 0, 1, 2, 1, 0, 2, 0, 1, 0, 0, 2,\n",
       "       4, 0, 2, 0, 2, 1, 0, 1, 1, 1, 0, 1, 0, 1, 0, 3, 0, 0, 2, 1, 1, 0,\n",
       "       0, 1, 0, 2, 0, 3, 0, 1, 0, 1, 0, 0, 1, 2, 0, 0, 1, 0, 0, 0, 0, 1,\n",
       "       0, 0, 1, 1, 0, 1, 1, 1, 0, 6, 4, 2, 1, 1, 0, 0, 0, 0, 0, 0, 0, 1,\n",
       "       0, 1, 0, 1, 0, 4, 1, 2, 0, 0, 1, 0, 0, 0, 1, 1, 0, 1, 1, 1, 0, 1,\n",
       "       0, 1, 0, 2, 2, 3, 1, 1, 0, 0, 0, 1, 1, 0, 1, 0, 1, 1, 1, 1, 0, 2,\n",
       "       0, 1, 1, 2, 3, 1, 0, 1, 0, 0, 2, 0, 1, 0, 0, 3, 1, 0, 1, 1, 2, 0,\n",
       "       1, 1, 0, 1, 0, 2, 1, 1, 2, 2, 2, 1, 1, 3, 2, 1, 1, 1, 0, 2, 1, 2,\n",
       "       1, 0, 0, 0, 1, 0, 1, 1, 0, 0, 0, 0, 1, 1, 2, 0, 2, 0, 1, 0, 1, 1,\n",
       "       1, 1, 0, 2, 0, 0, 1, 1, 1, 1, 1, 0, 1, 0, 0, 5, 0, 1, 0, 0, 2, 0,\n",
       "       0, 1, 0, 1, 3, 0, 0, 0, 0, 0, 1, 3, 0, 3, 2, 1, 1, 2, 1, 0, 0, 2,\n",
       "       0, 1, 1, 0, 1, 2, 3, 0, 0, 0, 1, 2, 0, 0, 0, 0, 1, 1, 1, 1, 1, 0,\n",
       "       2, 0, 2, 0, 3, 1, 3, 0, 1, 1, 0, 1, 1, 0, 0, 1, 2, 1, 0, 1, 0, 0,\n",
       "       1, 0, 2, 3, 0, 0, 1, 0, 0, 2, 0, 0, 0, 1, 0, 0, 0, 1, 0, 3, 1, 2,\n",
       "       1, 0, 1, 1, 0, 2, 4, 1, 0, 2, 1, 0, 0, 0, 0, 2, 1, 0, 3, 0, 0, 2,\n",
       "       0, 1, 0, 2, 0, 0, 0, 1, 0, 1, 0, 2, 1, 1, 0, 1, 1, 1, 0, 0, 2, 1,\n",
       "       1, 0], dtype=int64)"
      ]
     },
     "execution_count": 12,
     "metadata": {},
     "output_type": "execute_result"
    }
   ],
   "source": [
    "y_test"
   ]
  },
  {
   "cell_type": "code",
   "execution_count": 13,
   "id": "42236f93",
   "metadata": {},
   "outputs": [
    {
     "data": {
      "text/plain": [
       "GaussianNB()"
      ]
     },
     "execution_count": 13,
     "metadata": {},
     "output_type": "execute_result"
    }
   ],
   "source": [
    "from sklearn.naive_bayes import GaussianNB\n",
    "classifier = GaussianNB()\n",
    "classifier.fit(X_train, y_train)"
   ]
  },
  {
   "cell_type": "code",
   "execution_count": 14,
   "id": "8b52a2c5",
   "metadata": {},
   "outputs": [],
   "source": [
    "y_pred = classifier.predict(X_test)"
   ]
  },
  {
   "cell_type": "code",
   "execution_count": 15,
   "id": "ba2bf65d",
   "metadata": {},
   "outputs": [
    {
     "data": {
      "text/plain": [
       "array([1, 1, 1, 1, 1, 0, 3, 0, 3, 0, 0, 0, 1, 1, 2, 2, 1, 0, 2, 0, 0, 1,\n",
       "       1, 1, 1, 2, 1, 3, 1, 0, 1, 0, 1, 0, 2, 3, 1, 1, 0, 1, 1, 0, 2, 1,\n",
       "       1, 0, 0, 0, 1, 0, 2, 1, 2, 2, 0, 3, 2, 1, 3, 1, 1, 1, 1, 1, 1, 0,\n",
       "       0, 1, 1, 1, 0, 0, 1, 0, 0, 1, 1, 0, 1, 0, 0, 0, 0, 0, 1, 0, 2, 1,\n",
       "       0, 1, 3, 0, 1, 1, 2, 1, 0, 1, 2, 1, 0, 0, 2, 0, 4, 2, 0, 0, 0, 1,\n",
       "       2, 0, 0, 1, 0, 1, 1, 2, 1, 0, 2, 2, 0, 2, 1, 2, 1, 1, 0, 1, 0, 1,\n",
       "       3, 1, 1, 1, 0, 1, 1, 0, 0, 3, 0, 3, 1, 0, 1, 1, 1, 1, 0, 0, 0, 1,\n",
       "       2, 0, 2, 0, 1, 1, 1, 0, 0, 2, 1, 1, 1, 0, 1, 0, 1, 0, 1, 0, 0, 2,\n",
       "       0, 0, 0, 0, 0, 3, 0, 0, 1, 1, 0, 0, 1, 0, 5, 0, 4, 1, 0, 1, 3, 2,\n",
       "       0, 0, 1, 0, 2, 0, 0, 1, 0, 1, 2, 0, 1, 2, 1, 0, 2, 0, 1, 0, 0, 2,\n",
       "       4, 0, 2, 0, 2, 1, 0, 1, 1, 1, 0, 1, 0, 1, 0, 3, 0, 0, 2, 1, 1, 0,\n",
       "       0, 1, 0, 2, 0, 3, 0, 1, 0, 1, 0, 0, 1, 2, 0, 0, 1, 0, 0, 0, 0, 1,\n",
       "       0, 0, 1, 1, 0, 1, 1, 1, 0, 7, 4, 2, 1, 1, 0, 0, 0, 0, 0, 0, 0, 1,\n",
       "       0, 1, 0, 1, 0, 4, 1, 2, 0, 0, 1, 0, 0, 0, 1, 1, 0, 1, 1, 1, 0, 1,\n",
       "       0, 1, 0, 2, 2, 3, 1, 1, 0, 0, 0, 1, 1, 0, 1, 0, 1, 1, 1, 1, 0, 2,\n",
       "       0, 1, 1, 2, 3, 1, 0, 1, 0, 0, 2, 0, 1, 0, 0, 3, 1, 0, 1, 1, 2, 0,\n",
       "       1, 1, 0, 1, 0, 2, 1, 1, 2, 2, 2, 1, 1, 3, 2, 1, 1, 1, 0, 2, 1, 2,\n",
       "       1, 0, 0, 0, 1, 0, 1, 1, 0, 0, 0, 0, 1, 1, 2, 0, 2, 0, 1, 0, 1, 1,\n",
       "       1, 1, 0, 2, 0, 0, 1, 1, 1, 1, 1, 0, 1, 0, 0, 5, 0, 1, 0, 0, 2, 0,\n",
       "       0, 1, 0, 1, 3, 0, 0, 0, 0, 0, 1, 3, 0, 3, 2, 1, 1, 2, 1, 0, 0, 2,\n",
       "       0, 1, 1, 0, 1, 2, 3, 0, 0, 0, 1, 2, 0, 0, 0, 0, 1, 1, 1, 1, 1, 0,\n",
       "       2, 0, 2, 0, 3, 1, 3, 0, 1, 1, 0, 1, 1, 0, 0, 1, 2, 1, 0, 1, 0, 0,\n",
       "       1, 0, 2, 3, 0, 0, 1, 0, 0, 2, 0, 0, 0, 1, 0, 0, 0, 1, 0, 3, 1, 2,\n",
       "       1, 0, 1, 1, 0, 2, 4, 1, 0, 2, 1, 0, 0, 0, 0, 2, 1, 0, 3, 0, 0, 2,\n",
       "       0, 1, 0, 2, 0, 0, 0, 1, 0, 1, 0, 2, 1, 1, 0, 1, 1, 1, 0, 0, 2, 1,\n",
       "       1, 0], dtype=int64)"
      ]
     },
     "execution_count": 15,
     "metadata": {},
     "output_type": "execute_result"
    }
   ],
   "source": [
    "y_pred"
   ]
  },
  {
   "cell_type": "code",
   "execution_count": 16,
   "id": "7b66a4c3",
   "metadata": {},
   "outputs": [
    {
     "data": {
      "text/plain": [
       "array([1, 1, 1, 1, 1, 0, 3, 0, 3, 0, 0, 0, 1, 1, 2, 2, 1, 0, 2, 0, 0, 1,\n",
       "       1, 1, 1, 2, 1, 3, 1, 0, 1, 0, 1, 0, 2, 3, 1, 1, 0, 1, 1, 0, 2, 1,\n",
       "       1, 0, 0, 0, 1, 0, 2, 1, 2, 2, 0, 3, 2, 1, 3, 1, 1, 1, 1, 1, 1, 0,\n",
       "       0, 1, 1, 1, 0, 0, 1, 0, 0, 1, 1, 0, 1, 0, 0, 0, 0, 0, 1, 0, 2, 1,\n",
       "       0, 1, 3, 0, 1, 1, 2, 1, 0, 1, 2, 1, 0, 0, 2, 0, 4, 2, 0, 0, 0, 1,\n",
       "       2, 0, 0, 1, 0, 1, 1, 2, 1, 0, 2, 2, 0, 2, 1, 2, 1, 1, 0, 1, 0, 1,\n",
       "       3, 1, 1, 1, 0, 1, 1, 0, 0, 3, 0, 3, 1, 0, 1, 1, 1, 1, 0, 0, 0, 1,\n",
       "       2, 0, 2, 0, 1, 1, 1, 0, 0, 2, 1, 1, 1, 0, 1, 0, 1, 0, 1, 0, 0, 2,\n",
       "       0, 0, 0, 0, 0, 3, 0, 0, 1, 1, 0, 0, 1, 0, 5, 0, 4, 1, 0, 1, 3, 2,\n",
       "       0, 0, 1, 0, 2, 0, 0, 1, 0, 1, 2, 0, 1, 2, 1, 0, 2, 0, 1, 0, 0, 2,\n",
       "       4, 0, 2, 0, 2, 1, 0, 1, 1, 1, 0, 1, 0, 1, 0, 3, 0, 0, 2, 1, 1, 0,\n",
       "       0, 1, 0, 2, 0, 3, 0, 1, 0, 1, 0, 0, 1, 2, 0, 0, 1, 0, 0, 0, 0, 1,\n",
       "       0, 0, 1, 1, 0, 1, 1, 1, 0, 6, 4, 2, 1, 1, 0, 0, 0, 0, 0, 0, 0, 1,\n",
       "       0, 1, 0, 1, 0, 4, 1, 2, 0, 0, 1, 0, 0, 0, 1, 1, 0, 1, 1, 1, 0, 1,\n",
       "       0, 1, 0, 2, 2, 3, 1, 1, 0, 0, 0, 1, 1, 0, 1, 0, 1, 1, 1, 1, 0, 2,\n",
       "       0, 1, 1, 2, 3, 1, 0, 1, 0, 0, 2, 0, 1, 0, 0, 3, 1, 0, 1, 1, 2, 0,\n",
       "       1, 1, 0, 1, 0, 2, 1, 1, 2, 2, 2, 1, 1, 3, 2, 1, 1, 1, 0, 2, 1, 2,\n",
       "       1, 0, 0, 0, 1, 0, 1, 1, 0, 0, 0, 0, 1, 1, 2, 0, 2, 0, 1, 0, 1, 1,\n",
       "       1, 1, 0, 2, 0, 0, 1, 1, 1, 1, 1, 0, 1, 0, 0, 5, 0, 1, 0, 0, 2, 0,\n",
       "       0, 1, 0, 1, 3, 0, 0, 0, 0, 0, 1, 3, 0, 3, 2, 1, 1, 2, 1, 0, 0, 2,\n",
       "       0, 1, 1, 0, 1, 2, 3, 0, 0, 0, 1, 2, 0, 0, 0, 0, 1, 1, 1, 1, 1, 0,\n",
       "       2, 0, 2, 0, 3, 1, 3, 0, 1, 1, 0, 1, 1, 0, 0, 1, 2, 1, 0, 1, 0, 0,\n",
       "       1, 0, 2, 3, 0, 0, 1, 0, 0, 2, 0, 0, 0, 1, 0, 0, 0, 1, 0, 3, 1, 2,\n",
       "       1, 0, 1, 1, 0, 2, 4, 1, 0, 2, 1, 0, 0, 0, 0, 2, 1, 0, 3, 0, 0, 2,\n",
       "       0, 1, 0, 2, 0, 0, 0, 1, 0, 1, 0, 2, 1, 1, 0, 1, 1, 1, 0, 0, 2, 1,\n",
       "       1, 0], dtype=int64)"
      ]
     },
     "execution_count": 16,
     "metadata": {},
     "output_type": "execute_result"
    }
   ],
   "source": [
    "y_test"
   ]
  },
  {
   "cell_type": "code",
   "execution_count": 17,
   "id": "6dd073a5",
   "metadata": {},
   "outputs": [
    {
     "name": "stdout",
     "output_type": "stream",
     "text": [
      "[[233   0   0   0   0   0   0   0]\n",
      " [  0 210   0   0   0   0   0   0]\n",
      " [  0   0  73   0   0   0   0   0]\n",
      " [  0   0   0  27   0   0   0   0]\n",
      " [  0   0   0   0   6   0   0   0]\n",
      " [  0   0   0   0   0   2   0   0]\n",
      " [  0   0   0   0   0   0   0   1]\n",
      " [  0   0   0   0   0   0   0   0]]\n"
     ]
    }
   ],
   "source": [
    "from sklearn.metrics import confusion_matrix\n",
    "cm = confusion_matrix(y_test, y_pred)\n",
    "print(cm)"
   ]
  },
  {
   "cell_type": "code",
   "execution_count": 18,
   "id": "04a6e0b5",
   "metadata": {},
   "outputs": [
    {
     "data": {
      "image/png": "[encoded data removed]",
      "text/plain": [
       "<Figure size 800x500 with 2 Axes>"
      ]
     },
     "metadata": {},
     "output_type": "display_data"
    }
   ],
   "source": [
    "import seaborn as sns\n",
    "import matplotlib.pyplot as plt\n",
    "f, ax = plt.subplots(figsize=(8,5))\n",
    "sns.heatmap(confusion_matrix(y_test, y_pred), annot=True, fmt=\".0f\", ax=ax)\n",
    "plt.xlabel(\"y_pred\")\n",
    "plt.ylabel(\"y_true\")\n",
    "plt.show()"
   ]
  },
  {
   "cell_type": "code",
   "execution_count": 19,
   "id": "79e988b1",
   "metadata": {},
   "outputs": [
    {
     "name": "stdout",
     "output_type": "stream",
     "text": [
      "              precision    recall  f1-score   support\n",
      "\n",
      "           0       1.00      1.00      1.00       233\n",
      "           1       1.00      1.00      1.00       210\n",
      "           2       1.00      1.00      1.00        73\n",
      "           3       1.00      1.00      1.00        27\n",
      "           4       1.00      1.00      1.00         6\n",
      "           5       1.00      1.00      1.00         2\n",
      "           6       0.00      0.00      0.00         1\n",
      "           7       0.00      0.00      0.00         0\n",
      "\n",
      "    accuracy                           1.00       552\n",
      "   macro avg       0.75      0.75      0.75       552\n",
      "weighted avg       1.00      1.00      1.00       552\n",
      "\n"
     ]
    },
    {
     "name": "stderr",
     "output_type": "stream",
     "text": [
      "C:\\Users\\ASUS TUF\\anaconda3\\lib\\site-packages\\sklearn\\metrics\\_classification.py:1318: UndefinedMetricWarning: Precision and F-score are ill-defined and being set to 0.0 in labels with no predicted samples. Use `zero_division` parameter to control this behavior.\n",
      "  _warn_prf(average, modifier, msg_start, len(result))\n",
      "C:\\Users\\ASUS TUF\\anaconda3\\lib\\site-packages\\sklearn\\metrics\\_classification.py:1318: UndefinedMetricWarning: Recall and F-score are ill-defined and being set to 0.0 in labels with no true samples. Use `zero_division` parameter to control this behavior.\n",
      "  _warn_prf(average, modifier, msg_start, len(result))\n",
      "C:\\Users\\ASUS TUF\\anaconda3\\lib\\site-packages\\sklearn\\metrics\\_classification.py:1318: UndefinedMetricWarning: Precision and F-score are ill-defined and being set to 0.0 in labels with no predicted samples. Use `zero_division` parameter to control this behavior.\n",
      "  _warn_prf(average, modifier, msg_start, len(result))\n",
      "C:\\Users\\ASUS TUF\\anaconda3\\lib\\site-packages\\sklearn\\metrics\\_classification.py:1318: UndefinedMetricWarning: Recall and F-score are ill-defined and being set to 0.0 in labels with no true samples. Use `zero_division` parameter to control this behavior.\n",
      "  _warn_prf(average, modifier, msg_start, len(result))\n",
      "C:\\Users\\ASUS TUF\\anaconda3\\lib\\site-packages\\sklearn\\metrics\\_classification.py:1318: UndefinedMetricWarning: Precision and F-score are ill-defined and being set to 0.0 in labels with no predicted samples. Use `zero_division` parameter to control this behavior.\n",
      "  _warn_prf(average, modifier, msg_start, len(result))\n",
      "C:\\Users\\ASUS TUF\\anaconda3\\lib\\site-packages\\sklearn\\metrics\\_classification.py:1318: UndefinedMetricWarning: Recall and F-score are ill-defined and being set to 0.0 in labels with no true samples. Use `zero_division` parameter to control this behavior.\n",
      "  _warn_prf(average, modifier, msg_start, len(result))\n"
     ]
    }
   ],
   "source": [
    "from sklearn.metrics import classification_report\n",
    "print (classification_report(y_test, y_pred))"
   ]
  },
  {
   "cell_type": "code",
   "execution_count": 20,
   "id": "52b5bc75",
   "metadata": {},
   "outputs": [
    {
     "name": "stderr",
     "output_type": "stream",
     "text": [
      "*c* argument looks like a single numeric RGB or RGBA sequence, which should be avoided as value-mapping will have precedence in case its length matches with *x* & *y*.  Please use the *color* keyword-argument or provide a 2D array with a single row if you intend to specify the same RGB or RGBA value for all points.\n",
      "*c* argument looks like a single numeric RGB or RGBA sequence, which should be avoided as value-mapping will have precedence in case its length matches with *x* & *y*.  Please use the *color* keyword-argument or provide a 2D array with a single row if you intend to specify the same RGB or RGBA value for all points.\n",
      "*c* argument looks like a single numeric RGB or RGBA sequence, which should be avoided as value-mapping will have precedence in case its length matches with *x* & *y*.  Please use the *color* keyword-argument or provide a 2D array with a single row if you intend to specify the same RGB or RGBA value for all points.\n",
      "*c* argument looks like a single numeric RGB or RGBA sequence, which should be avoided as value-mapping will have precedence in case its length matches with *x* & *y*.  Please use the *color* keyword-argument or provide a 2D array with a single row if you intend to specify the same RGB or RGBA value for all points.\n",
      "*c* argument looks like a single numeric RGB or RGBA sequence, which should be avoided as value-mapping will have precedence in case its length matches with *x* & *y*.  Please use the *color* keyword-argument or provide a 2D array with a single row if you intend to specify the same RGB or RGBA value for all points.\n",
      "*c* argument looks like a single numeric RGB or RGBA sequence, which should be avoided as value-mapping will have precedence in case its length matches with *x* & *y*.  Please use the *color* keyword-argument or provide a 2D array with a single row if you intend to specify the same RGB or RGBA value for all points.\n",
      "*c* argument looks like a single numeric RGB or RGBA sequence, which should be avoided as value-mapping will have precedence in case its length matches with *x* & *y*.  Please use the *color* keyword-argument or provide a 2D array with a single row if you intend to specify the same RGB or RGBA value for all points.\n"
     ]
    },
    {
     "data": {
      "image/png": "[encoded data removed]",
      "text/plain": [
       "<Figure size 640x480 with 1 Axes>"
      ]
     },
     "metadata": {},
     "output_type": "display_data"
    }
   ],
   "source": [
    "from matplotlib.colors import ListedColormap\n",
    "X_set, y_set = X_train, y_train\n",
    "X1, X2 = np.meshgrid(np.arange(start = X_set[:, 0].min() - 1, stop = X_set[:, 0].max() + 1, step = 0.01),\n",
    "                     np.arange(start = X_set[:, 1].min() - 1, stop = X_set[:, 1].max() + 1, step = 0.01))\n",
    "plt.contourf(X1, X2, classifier.predict(np.array([X1.ravel(), X2.ravel()]).T).reshape(X1.shape),\n",
    "             alpha = 0.75, cmap = ListedColormap(('red', 'green')))\n",
    "plt.xlim(X1.min(), X1.max())\n",
    "plt.ylim(X2.min(), X2.max())\n",
    "for i, j in enumerate(np.unique(y_set)):\n",
    "    plt.scatter(X_set[y_set == j, 0], X_set[y_set == j, 1],\n",
    "                c = ListedColormap(('red', 'green'))(i), label = j)\n",
    "plt.title('Naive Bayes (Training set)')\n",
    "plt.xlabel('Age')\n",
    "plt.ylabel('Estimated Salary')\n",
    "plt.legend()\n",
    "plt.show()"
   ]
  },
  {
   "cell_type": "code",
   "execution_count": 21,
   "id": "abcf1890",
   "metadata": {},
   "outputs": [
    {
     "name": "stderr",
     "output_type": "stream",
     "text": [
      "*c* argument looks like a single numeric RGB or RGBA sequence, which should be avoided as value-mapping will have precedence in case its length matches with *x* & *y*.  Please use the *color* keyword-argument or provide a 2D array with a single row if you intend to specify the same RGB or RGBA value for all points.\n",
      "*c* argument looks like a single numeric RGB or RGBA sequence, which should be avoided as value-mapping will have precedence in case its length matches with *x* & *y*.  Please use the *color* keyword-argument or provide a 2D array with a single row if you intend to specify the same RGB or RGBA value for all points.\n",
      "*c* argument looks like a single numeric RGB or RGBA sequence, which should be avoided as value-mapping will have precedence in case its length matches with *x* & *y*.  Please use the *color* keyword-argument or provide a 2D array with a single row if you intend to specify the same RGB or RGBA value for all points.\n",
      "*c* argument looks like a single numeric RGB or RGBA sequence, which should be avoided as value-mapping will have precedence in case its length matches with *x* & *y*.  Please use the *color* keyword-argument or provide a 2D array with a single row if you intend to specify the same RGB or RGBA value for all points.\n",
      "*c* argument looks like a single numeric RGB or RGBA sequence, which should be avoided as value-mapping will have precedence in case its length matches with *x* & *y*.  Please use the *color* keyword-argument or provide a 2D array with a single row if you intend to specify the same RGB or RGBA value for all points.\n",
      "*c* argument looks like a single numeric RGB or RGBA sequence, which should be avoided as value-mapping will have precedence in case its length matches with *x* & *y*.  Please use the *color* keyword-argument or provide a 2D array with a single row if you intend to specify the same RGB or RGBA value for all points.\n",
      "*c* argument looks like a single numeric RGB or RGBA sequence, which should be avoided as value-mapping will have precedence in case its length matches with *x* & *y*.  Please use the *color* keyword-argument or provide a 2D array with a single row if you intend to specify the same RGB or RGBA value for all points.\n"
     ]
    },
    {
     "data": {
      "image/png": "[encoded data removed]",
      "text/plain": [
       "<Figure size 640x480 with 1 Axes>"
      ]
     },
     "metadata": {},
     "output_type": "display_data"
    }
   ],
   "source": [
    "from matplotlib.colors import ListedColormap\n",
    "X_set, y_set = X_test, y_test\n",
    "X1, X2 = np.meshgrid(np.arange(start = X_set[:, 0].min() - 1, stop = X_set[:, 0].max() + 1, step = 0.01),\n",
    "                     np.arange(start = X_set[:, 1].min() - 1, stop = X_set[:, 1].max() + 1, step = 0.01))\n",
    "plt.contourf(X1, X2, classifier.predict(np.array([X1.ravel(), X2.ravel()]).T).reshape(X1.shape),\n",
    "             alpha = 0.75, cmap = ListedColormap(('red', 'green')))\n",
    "plt.xlim(X1.min(), X1.max())\n",
    "plt.ylim(X2.min(), X2.max())\n",
    "for i, j in enumerate(np.unique(y_set)):\n",
    "    plt.scatter(X_set[y_set == j, 0], X_set[y_set == j, 1],\n",
    "                c = ListedColormap(('red', 'green'))(i), label = j)\n",
    "plt.title('Naive Bayes (Test set)')\n",
    "plt.xlabel('Age')\n",
    "plt.ylabel('Estimated Salary')\n",
    "plt.legend()\n",
    "plt.show()"
   ]
  },
  {
   "cell_type": "code",
   "execution_count": null,
   "id": "801cb948",
   "metadata": {},
   "outputs": [],
   "source": []
  }
 ],
 "metadata": {
  "kernelspec": {
   "display_name": "Python 3 (ipykernel)",
   "language": "python",
   "name": "python3"
  },
  "language_info": {
   "codemirror_mode": {
    "name": "ipython",
    "version": 3
   },
   "file_extension": ".py",
   "mimetype": "text/x-python",
   "name": "python",
   "nbconvert_exporter": "python",
   "pygments_lexer": "ipython3",
   "version": "3.9.13"
  }
 },
 "nbformat": 4,
 "nbformat_minor": 5
}
